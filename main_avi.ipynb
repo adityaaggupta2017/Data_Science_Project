{
 "cells": [
  {
   "cell_type": "code",
   "execution_count": 5,
   "metadata": {},
   "outputs": [],
   "source": [
    "import numpy as np\n",
    "import pandas as pd\n",
    "\n",
    "#NLP Library\n",
    "import spacy\n",
    "import re\n",
    "\n",
    "#Language Detect Library\n",
    "import pycld2 as cld2\n",
    "\n",
    "#Feature extraction, model selection and model training library\n",
    "from sklearn.feature_extraction.text import HashingVectorizer\n",
    "from sklearn.pipeline import Pipeline\n",
    "from sklearn.linear_model import LogisticRegression\n",
    "from sklearn.naive_bayes import GaussianNB\n",
    "from sklearn.model_selection import train_test_split\n",
    "\n",
    "#Libraries to check the model performance\n",
    "from sklearn import metrics\n",
    "from sklearn.metrics import classification_report\n",
    "from sklearn.metrics import confusion_matrix\n",
    "\n",
    "#Graphing Libraries\n",
    "import matplotlib.pyplot as plt\n",
    "%matplotlib inline\n",
    "import seaborn as snb\n",
    "from wordcloud import WordCloud, STOPWORDS\n",
    "\n",
    "#Hypothesis Testing\n",
    "import math\n",
    "from scipy.stats import chi2_contingency, chisquare, chi2\n"
   ]
  },
  {
   "cell_type": "code",
   "execution_count": 7,
   "metadata": {},
   "outputs": [
    {
     "name": "stdout",
     "output_type": "stream",
     "text": [
      "Collecting en-core-web-sm==3.8.0\n",
      "  Downloading https://github.com/explosion/spacy-models/releases/download/en_core_web_sm-3.8.0/en_core_web_sm-3.8.0-py3-none-any.whl (12.8 MB)\n",
      "     ---------------------------------------- 0.0/12.8 MB ? eta -:--:--\n",
      "     ----- ---------------------------------- 1.8/12.8 MB 10.0 MB/s eta 0:00:02\n",
      "     ---------- ----------------------------- 3.4/12.8 MB 9.1 MB/s eta 0:00:02\n",
      "     ----------------- ---------------------- 5.5/12.8 MB 9.3 MB/s eta 0:00:01\n",
      "     ----------------------- ---------------- 7.6/12.8 MB 9.4 MB/s eta 0:00:01\n",
      "     ----------------------------- ---------- 9.4/12.8 MB 9.5 MB/s eta 0:00:01\n",
      "     --------------------------------- ------ 10.7/12.8 MB 8.9 MB/s eta 0:00:01\n",
      "     ------------------------------------- -- 12.1/12.8 MB 8.7 MB/s eta 0:00:01\n",
      "     ---------------------------------------- 12.8/12.8 MB 8.5 MB/s eta 0:00:00\n",
      "Installing collected packages: en-core-web-sm\n",
      "Successfully installed en-core-web-sm-3.8.0\n",
      "\u001b[38;5;2m✔ Download and installation successful\u001b[0m\n",
      "You can now load the package via spacy.load('en_core_web_sm')\n"
     ]
    },
    {
     "name": "stderr",
     "output_type": "stream",
     "text": [
      "WARNING: Ignoring invalid distribution -atplotlib (c:\\users\\avi sharma\\appdata\\local\\programs\\python\\python310\\lib\\site-packages)\n",
      "WARNING: Ignoring invalid distribution -atplotlib (c:\\users\\avi sharma\\appdata\\local\\programs\\python\\python310\\lib\\site-packages)\n",
      "WARNING: Ignoring invalid distribution -atplotlib (c:\\users\\avi sharma\\appdata\\local\\programs\\python\\python310\\lib\\site-packages)\n"
     ]
    }
   ],
   "source": [
    "!python -m spacy download en_core_web_sm\n"
   ]
  },
  {
   "cell_type": "code",
   "execution_count": 8,
   "metadata": {},
   "outputs": [],
   "source": [
    "nlp = spacy.load(\"en_core_web_sm\",disable=[\"tagger\",\"parser\",\"ner\"])"
   ]
  },
  {
   "cell_type": "code",
   "execution_count": 9,
   "metadata": {},
   "outputs": [],
   "source": [
    "def clean_tweet_text_regex(tweet): \n",
    "  \n",
    "  tweet = tweet.lower() ; \n",
    "  \n",
    "  tweet = re.sub(r\"@[A-Za-z0-9]+\",\"\", tweet) # we are removing @Mentions from the tweets  \n",
    "  \n",
    "  tweet = re.sub(r\"#\",\"\", tweet) # remove # \\ART[\\s]+\n",
    "  \n",
    "  tweet = re.sub(r\"\\ART[\\s]+\",\"\", tweet) # Remove RT in start \n",
    "  tweet = re.sub(r\"https?:\\/\\/\\S+\",\"\", tweet) # Remove hyperlink\n",
    "  tweet = re.sub(\"(.)\\\\1{2,}\",\"\\\\1\", tweet) # Remove more than one characters.\n",
    "  tweet = re.sub(r\"[^A-Za-z0-9\\s]+\", \"\",str(tweet)) #remove special characters \"!\"\n",
    "  \n",
    "  \n",
    "  return tweet\n",
    "\n",
    "\n",
    "def clean_tweet_spacy_core(doc): \n",
    "  tokens = [] ; \n",
    "  \n",
    "  for token in doc: \n",
    "    if token.is_stop: # removing the stop words \n",
    "      continue ; \n",
    "    \n",
    "    if token.text != token.lemma_:   # root meaning \n",
    "      tokens.append(token.lemma_) ; \n",
    "    else:\n",
    "      tokens.append(token.text) ;  \n",
    "      \n",
    "  tweet = \" \".join(tokens) ; \n",
    "  \n",
    "  return tweet ; \n",
    "\n",
    "  \n",
    "def doc_to_spans(list_of_texts, join_string=' ||| '):\n",
    "    all_docs = list(nlp.pipe(list_of_texts, batch_size=20, n_process=-1))\n",
    "    split_inds = [i for i, token in enumerate(all_docs) if token.text == '|||'] + [len(all_docs)]\n",
    "    new_docs = [all_docs[(i + 1 if i > 0 else i):j] for i, j in zip([0] + split_inds[:-1], split_inds)]\n",
    "    return new_docs\n",
    "\n",
    "def get_complete_spans(data,colname):\n",
    "    splitted_frames = np.array_split(data, 500)\n",
    "    docs=[]\n",
    "    i = 1\n",
    "    for frame in splitted_frames:\n",
    "        docs.append(doc_to_spans(frame[colname]))\n",
    "    return docs\n",
    "\n",
    "\n",
    "\n",
    "def clean_tweet_spacy(data, colname):\n",
    "    docs = get_complete_spans(data, colname)\n",
    "    \n",
    "    print(\"Tweets cleaning started\")\n",
    "    tweets = []\n",
    "    \n",
    "    for doces in docs:\n",
    "        for doc in doces:\n",
    "            tweets.append(clean_tweet_spacy_core(doc))\n",
    "\n",
    "    print(\"Tweets cleanned\")\n",
    "    return tweets\n",
    "\n",
    "\n",
    "def detect_lang(tweet):\n",
    "    try:\n",
    "        isReliable, textBytesFound, details = cld2.detect(tweet)\n",
    "        return details[0][0]\n",
    "    except:\n",
    "        return \"not found\"\n",
    "    \n",
    "\n"
   ]
  },
  {
   "cell_type": "code",
   "execution_count": 11,
   "metadata": {},
   "outputs": [],
   "source": [
    "labeled_data = pd.read_csv(r\"D:\\DSC_A2\\training.1600000.processed.noemoticon.csv\", encoding = \"ISO-8859-1\", engine=\"python\")\n",
    "# D:\\DSC_A2\\hashtag_joebiden.csv"
   ]
  },
  {
   "cell_type": "code",
   "execution_count": 12,
   "metadata": {},
   "outputs": [
    {
     "data": {
      "text/html": [
       "<div>\n",
       "<style scoped>\n",
       "    .dataframe tbody tr th:only-of-type {\n",
       "        vertical-align: middle;\n",
       "    }\n",
       "\n",
       "    .dataframe tbody tr th {\n",
       "        vertical-align: top;\n",
       "    }\n",
       "\n",
       "    .dataframe thead th {\n",
       "        text-align: right;\n",
       "    }\n",
       "</style>\n",
       "<table border=\"1\" class=\"dataframe\">\n",
       "  <thead>\n",
       "    <tr style=\"text-align: right;\">\n",
       "      <th></th>\n",
       "      <th>0</th>\n",
       "      <th>1467810369</th>\n",
       "      <th>Mon Apr 06 22:19:45 PDT 2009</th>\n",
       "      <th>NO_QUERY</th>\n",
       "      <th>_TheSpecialOne_</th>\n",
       "      <th>@switchfoot http://twitpic.com/2y1zl - Awww, that's a bummer.  You shoulda got David Carr of Third Day to do it. ;D</th>\n",
       "    </tr>\n",
       "  </thead>\n",
       "  <tbody>\n",
       "    <tr>\n",
       "      <th>0</th>\n",
       "      <td>0</td>\n",
       "      <td>1467810672</td>\n",
       "      <td>Mon Apr 06 22:19:49 PDT 2009</td>\n",
       "      <td>NO_QUERY</td>\n",
       "      <td>scotthamilton</td>\n",
       "      <td>is upset that he can't update his Facebook by ...</td>\n",
       "    </tr>\n",
       "    <tr>\n",
       "      <th>1</th>\n",
       "      <td>0</td>\n",
       "      <td>1467810917</td>\n",
       "      <td>Mon Apr 06 22:19:53 PDT 2009</td>\n",
       "      <td>NO_QUERY</td>\n",
       "      <td>mattycus</td>\n",
       "      <td>@Kenichan I dived many times for the ball. Man...</td>\n",
       "    </tr>\n",
       "    <tr>\n",
       "      <th>2</th>\n",
       "      <td>0</td>\n",
       "      <td>1467811184</td>\n",
       "      <td>Mon Apr 06 22:19:57 PDT 2009</td>\n",
       "      <td>NO_QUERY</td>\n",
       "      <td>ElleCTF</td>\n",
       "      <td>my whole body feels itchy and like its on fire</td>\n",
       "    </tr>\n",
       "    <tr>\n",
       "      <th>3</th>\n",
       "      <td>0</td>\n",
       "      <td>1467811193</td>\n",
       "      <td>Mon Apr 06 22:19:57 PDT 2009</td>\n",
       "      <td>NO_QUERY</td>\n",
       "      <td>Karoli</td>\n",
       "      <td>@nationwideclass no, it's not behaving at all....</td>\n",
       "    </tr>\n",
       "    <tr>\n",
       "      <th>4</th>\n",
       "      <td>0</td>\n",
       "      <td>1467811372</td>\n",
       "      <td>Mon Apr 06 22:20:00 PDT 2009</td>\n",
       "      <td>NO_QUERY</td>\n",
       "      <td>joy_wolf</td>\n",
       "      <td>@Kwesidei not the whole crew</td>\n",
       "    </tr>\n",
       "  </tbody>\n",
       "</table>\n",
       "</div>"
      ],
      "text/plain": [
       "   0  1467810369  Mon Apr 06 22:19:45 PDT 2009  NO_QUERY _TheSpecialOne_  \\\n",
       "0  0  1467810672  Mon Apr 06 22:19:49 PDT 2009  NO_QUERY   scotthamilton   \n",
       "1  0  1467810917  Mon Apr 06 22:19:53 PDT 2009  NO_QUERY        mattycus   \n",
       "2  0  1467811184  Mon Apr 06 22:19:57 PDT 2009  NO_QUERY         ElleCTF   \n",
       "3  0  1467811193  Mon Apr 06 22:19:57 PDT 2009  NO_QUERY          Karoli   \n",
       "4  0  1467811372  Mon Apr 06 22:20:00 PDT 2009  NO_QUERY        joy_wolf   \n",
       "\n",
       "  @switchfoot http://twitpic.com/2y1zl - Awww, that's a bummer.  You shoulda got David Carr of Third Day to do it. ;D  \n",
       "0  is upset that he can't update his Facebook by ...                                                                   \n",
       "1  @Kenichan I dived many times for the ball. Man...                                                                   \n",
       "2    my whole body feels itchy and like its on fire                                                                    \n",
       "3  @nationwideclass no, it's not behaving at all....                                                                   \n",
       "4                      @Kwesidei not the whole crew                                                                    "
      ]
     },
     "execution_count": 12,
     "metadata": {},
     "output_type": "execute_result"
    }
   ],
   "source": [
    "labeled_data.head()"
   ]
  },
  {
   "cell_type": "code",
   "execution_count": 13,
   "metadata": {},
   "outputs": [],
   "source": [
    "labeled_data.columns = [\"label\", \"time\", \"date\", \"query\", \"username\", \"text\"] # we add the columns for the labelled data as its not present in the csv file . \n"
   ]
  },
  {
   "cell_type": "code",
   "execution_count": 14,
   "metadata": {},
   "outputs": [
    {
     "name": "stdout",
     "output_type": "stream",
     "text": [
      "label: null percent: 0.0 null values: 0/1599999 value count: 1599999/1599999\n",
      "time: null percent: 0.0 null values: 0/1599999 value count: 1599999/1599999\n",
      "date: null percent: 0.0 null values: 0/1599999 value count: 1599999/1599999\n",
      "query: null percent: 0.0 null values: 0/1599999 value count: 1599999/1599999\n",
      "username: null percent: 0.0 null values: 0/1599999 value count: 1599999/1599999\n",
      "text: null percent: 0.0 null values: 0/1599999 value count: 1599999/1599999\n"
     ]
    }
   ],
   "source": [
    "def check_columns_null_values(data): \n",
    "  column_null_values = pd.DataFrame(columns=[\"column\" , \"nullvalues\"]) ; \n",
    "  \n",
    "  null_values = [] ; \n",
    "  \n",
    "  for column in data.columns:\n",
    "    sum = data[column].isnull().sum() ; \n",
    "    \n",
    "    print(f\"{column}: null percent: {sum/data.shape[0]*100} null values: {sum}/{data.shape[0]} value count: {data.shape[0] - sum}/{data.shape[0]}\") ; \n",
    "    \n",
    "    null_values.append(sum) ; \n",
    "    \n",
    "  column_null_values[\"column\"] = data.columns ; \n",
    "  column_null_values[\"nullvalues\"] = null_values ;  \n",
    "  \n",
    "  return column_null_values ; \n",
    "\n",
    "x = check_columns_null_values(labeled_data) ; \n"
   ]
  },
  {
   "cell_type": "code",
   "execution_count": 15,
   "metadata": {},
   "outputs": [
    {
     "name": "stdout",
     "output_type": "stream",
     "text": [
      "0          ENGLISH\n",
      "1          ENGLISH\n",
      "2          ENGLISH\n",
      "3          ENGLISH\n",
      "4          ENGLISH\n",
      "            ...   \n",
      "1599994    ENGLISH\n",
      "1599995    ENGLISH\n",
      "1599996    ENGLISH\n",
      "1599997    ENGLISH\n",
      "1599998    ENGLISH\n",
      "Name: text, Length: 1599999, dtype: object\n"
     ]
    }
   ],
   "source": [
    "labeled_data[\"text\"] = labeled_data[\"text\"].apply(clean_tweet_text_regex)\n",
    "\n",
    "train_langs = labeled_data[\"text\"].apply(detect_lang)\n",
    "\n",
    "print(train_langs);  # most are in english text only . "
   ]
  },
  {
   "cell_type": "code",
   "execution_count": 17,
   "metadata": {},
   "outputs": [
    {
     "name": "stdout",
     "output_type": "stream",
     "text": [
      "text\n",
      "ENGLISH    1517041\n",
      "Name: count, dtype: int64\n",
      "1517041\n"
     ]
    },
    {
     "name": "stderr",
     "output_type": "stream",
     "text": [
      "c:\\Users\\Avi Sharma\\AppData\\Local\\Programs\\Python\\Python310\\lib\\site-packages\\numpy\\_core\\fromnumeric.py:57: FutureWarning: 'DataFrame.swapaxes' is deprecated and will be removed in a future version. Please use 'DataFrame.transpose' instead.\n",
      "  return bound(*args, **kwds)\n",
      "c:\\Users\\Avi Sharma\\AppData\\Local\\Programs\\Python\\Python310\\lib\\site-packages\\spacy\\pipeline\\lemmatizer.py:211: UserWarning: [W108] The rule-based lemmatizer did not find POS annotation for one or more tokens. Check that your pipeline includes components that assign token.pos, typically 'tagger'+'attribute_ruler' or 'morphologizer'.\n",
      "  warnings.warn(Warnings.W108)\n"
     ]
    },
    {
     "name": "stdout",
     "output_type": "stream",
     "text": [
      "Tweets cleaning started\n",
      "Tweets cleanned\n"
     ]
    },
    {
     "name": "stderr",
     "output_type": "stream",
     "text": [
      "C:\\Users\\Avi Sharma\\AppData\\Local\\Temp\\ipykernel_29608\\2580666307.py:11: SettingWithCopyWarning: \n",
      "A value is trying to be set on a copy of a slice from a DataFrame.\n",
      "Try using .loc[row_indexer,col_indexer] = value instead\n",
      "\n",
      "See the caveats in the documentation: https://pandas.pydata.org/pandas-docs/stable/user_guide/indexing.html#returning-a-view-versus-a-copy\n",
      "  english_train_data['text'] = clean_tweet_spacy(english_train_data , 'text') ;\n"
     ]
    },
    {
     "data": {
      "text/html": [
       "<div>\n",
       "<style scoped>\n",
       "    .dataframe tbody tr th:only-of-type {\n",
       "        vertical-align: middle;\n",
       "    }\n",
       "\n",
       "    .dataframe tbody tr th {\n",
       "        vertical-align: top;\n",
       "    }\n",
       "\n",
       "    .dataframe thead th {\n",
       "        text-align: right;\n",
       "    }\n",
       "</style>\n",
       "<table border=\"1\" class=\"dataframe\">\n",
       "  <thead>\n",
       "    <tr style=\"text-align: right;\">\n",
       "      <th></th>\n",
       "      <th>created_at</th>\n",
       "      <th>tweet_id</th>\n",
       "      <th>tweet</th>\n",
       "      <th>likes</th>\n",
       "      <th>retweet_count</th>\n",
       "      <th>source</th>\n",
       "      <th>user_id</th>\n",
       "      <th>user_name</th>\n",
       "      <th>user_screen_name</th>\n",
       "      <th>user_description</th>\n",
       "      <th>...</th>\n",
       "      <th>user_followers_count</th>\n",
       "      <th>user_location</th>\n",
       "      <th>lat</th>\n",
       "      <th>long</th>\n",
       "      <th>city</th>\n",
       "      <th>country</th>\n",
       "      <th>continent</th>\n",
       "      <th>state</th>\n",
       "      <th>state_code</th>\n",
       "      <th>collected_at</th>\n",
       "    </tr>\n",
       "  </thead>\n",
       "  <tbody>\n",
       "    <tr>\n",
       "      <th>0</th>\n",
       "      <td>2020-10-15 00:00:01</td>\n",
       "      <td>1.316529221557252e+18</td>\n",
       "      <td>#Elecciones2020 | En #Florida: #JoeBiden dice ...</td>\n",
       "      <td>0.0</td>\n",
       "      <td>0.0</td>\n",
       "      <td>TweetDeck</td>\n",
       "      <td>360666534.0</td>\n",
       "      <td>El Sol Latino News</td>\n",
       "      <td>elsollatinonews</td>\n",
       "      <td>🌐 Noticias de interés para latinos de la costa...</td>\n",
       "      <td>...</td>\n",
       "      <td>1860.0</td>\n",
       "      <td>Philadelphia, PA / Miami, FL</td>\n",
       "      <td>25.77427</td>\n",
       "      <td>-80.19366</td>\n",
       "      <td>NaN</td>\n",
       "      <td>United States of America</td>\n",
       "      <td>North America</td>\n",
       "      <td>Florida</td>\n",
       "      <td>FL</td>\n",
       "      <td>2020-10-21 00:00:00</td>\n",
       "    </tr>\n",
       "    <tr>\n",
       "      <th>1</th>\n",
       "      <td>2020-10-15 00:00:01</td>\n",
       "      <td>1.3165292227484303e+18</td>\n",
       "      <td>Usa 2020, Trump contro Facebook e Twitter: cop...</td>\n",
       "      <td>26.0</td>\n",
       "      <td>9.0</td>\n",
       "      <td>Social Mediaset</td>\n",
       "      <td>331617619.0</td>\n",
       "      <td>Tgcom24</td>\n",
       "      <td>MediasetTgcom24</td>\n",
       "      <td>Profilo ufficiale di Tgcom24: tutte le notizie...</td>\n",
       "      <td>...</td>\n",
       "      <td>1067661.0</td>\n",
       "      <td>NaN</td>\n",
       "      <td>NaN</td>\n",
       "      <td>NaN</td>\n",
       "      <td>NaN</td>\n",
       "      <td>NaN</td>\n",
       "      <td>NaN</td>\n",
       "      <td>NaN</td>\n",
       "      <td>NaN</td>\n",
       "      <td>2020-10-21 00:00:00.373216530</td>\n",
       "    </tr>\n",
       "    <tr>\n",
       "      <th>2</th>\n",
       "      <td>2020-10-15 00:00:02</td>\n",
       "      <td>1.316529228091847e+18</td>\n",
       "      <td>#Trump: As a student I used to hear for years,...</td>\n",
       "      <td>2.0</td>\n",
       "      <td>1.0</td>\n",
       "      <td>Twitter Web App</td>\n",
       "      <td>8436472.0</td>\n",
       "      <td>snarke</td>\n",
       "      <td>snarke</td>\n",
       "      <td>Will mock for food! Freelance writer, blogger,...</td>\n",
       "      <td>...</td>\n",
       "      <td>1185.0</td>\n",
       "      <td>Portland</td>\n",
       "      <td>45.5202471</td>\n",
       "      <td>-122.6741949</td>\n",
       "      <td>Portland</td>\n",
       "      <td>United States of America</td>\n",
       "      <td>North America</td>\n",
       "      <td>Oregon</td>\n",
       "      <td>OR</td>\n",
       "      <td>2020-10-21 00:00:00.746433060</td>\n",
       "    </tr>\n",
       "    <tr>\n",
       "      <th>3</th>\n",
       "      <td>2020-10-15 00:00:02</td>\n",
       "      <td>1.316529227471237e+18</td>\n",
       "      <td>2 hours since last tweet from #Trump! Maybe he...</td>\n",
       "      <td>0.0</td>\n",
       "      <td>0.0</td>\n",
       "      <td>Trumpytweeter</td>\n",
       "      <td>8.28355589206057e+17</td>\n",
       "      <td>Trumpytweeter</td>\n",
       "      <td>trumpytweeter</td>\n",
       "      <td>If he doesn't tweet for some time, should we b...</td>\n",
       "      <td>...</td>\n",
       "      <td>32.0</td>\n",
       "      <td>NaN</td>\n",
       "      <td>NaN</td>\n",
       "      <td>NaN</td>\n",
       "      <td>NaN</td>\n",
       "      <td>NaN</td>\n",
       "      <td>NaN</td>\n",
       "      <td>NaN</td>\n",
       "      <td>NaN</td>\n",
       "      <td>2020-10-21 00:00:01.119649591</td>\n",
       "    </tr>\n",
       "    <tr>\n",
       "      <th>4</th>\n",
       "      <td>2020-10-15 00:00:08</td>\n",
       "      <td>1.3165292523014513e+18</td>\n",
       "      <td>You get a tie! And you get a tie! #Trump ‘s ra...</td>\n",
       "      <td>4.0</td>\n",
       "      <td>3.0</td>\n",
       "      <td>Twitter for iPhone</td>\n",
       "      <td>47413798.0</td>\n",
       "      <td>Rana Abtar - رنا أبتر</td>\n",
       "      <td>Ranaabtar</td>\n",
       "      <td>Washington Correspondent, Lebanese-American ,c...</td>\n",
       "      <td>...</td>\n",
       "      <td>5393.0</td>\n",
       "      <td>Washington DC</td>\n",
       "      <td>38.8949924</td>\n",
       "      <td>-77.0365581</td>\n",
       "      <td>Washington</td>\n",
       "      <td>United States of America</td>\n",
       "      <td>North America</td>\n",
       "      <td>District of Columbia</td>\n",
       "      <td>DC</td>\n",
       "      <td>2020-10-21 00:00:01.492866121</td>\n",
       "    </tr>\n",
       "  </tbody>\n",
       "</table>\n",
       "<p>5 rows × 21 columns</p>\n",
       "</div>"
      ],
      "text/plain": [
       "            created_at                tweet_id  \\\n",
       "0  2020-10-15 00:00:01   1.316529221557252e+18   \n",
       "1  2020-10-15 00:00:01  1.3165292227484303e+18   \n",
       "2  2020-10-15 00:00:02   1.316529228091847e+18   \n",
       "3  2020-10-15 00:00:02   1.316529227471237e+18   \n",
       "4  2020-10-15 00:00:08  1.3165292523014513e+18   \n",
       "\n",
       "                                               tweet likes  retweet_count  \\\n",
       "0  #Elecciones2020 | En #Florida: #JoeBiden dice ...   0.0            0.0   \n",
       "1  Usa 2020, Trump contro Facebook e Twitter: cop...  26.0            9.0   \n",
       "2  #Trump: As a student I used to hear for years,...   2.0            1.0   \n",
       "3  2 hours since last tweet from #Trump! Maybe he...   0.0            0.0   \n",
       "4  You get a tie! And you get a tie! #Trump ‘s ra...   4.0            3.0   \n",
       "\n",
       "               source               user_id              user_name  \\\n",
       "0           TweetDeck           360666534.0     El Sol Latino News   \n",
       "1    Social Mediaset            331617619.0                Tgcom24   \n",
       "2     Twitter Web App             8436472.0                 snarke   \n",
       "3       Trumpytweeter  8.28355589206057e+17          Trumpytweeter   \n",
       "4  Twitter for iPhone            47413798.0  Rana Abtar - رنا أبتر   \n",
       "\n",
       "  user_screen_name                                   user_description  ...  \\\n",
       "0  elsollatinonews  🌐 Noticias de interés para latinos de la costa...  ...   \n",
       "1  MediasetTgcom24  Profilo ufficiale di Tgcom24: tutte le notizie...  ...   \n",
       "2           snarke  Will mock for food! Freelance writer, blogger,...  ...   \n",
       "3    trumpytweeter  If he doesn't tweet for some time, should we b...  ...   \n",
       "4        Ranaabtar  Washington Correspondent, Lebanese-American ,c...  ...   \n",
       "\n",
       "  user_followers_count                 user_location         lat  \\\n",
       "0               1860.0  Philadelphia, PA / Miami, FL    25.77427   \n",
       "1            1067661.0                           NaN         NaN   \n",
       "2               1185.0                      Portland  45.5202471   \n",
       "3                 32.0                           NaN         NaN   \n",
       "4               5393.0                 Washington DC  38.8949924   \n",
       "\n",
       "           long        city                   country      continent  \\\n",
       "0     -80.19366         NaN  United States of America  North America   \n",
       "1           NaN         NaN                       NaN            NaN   \n",
       "2  -122.6741949    Portland  United States of America  North America   \n",
       "3           NaN         NaN                       NaN            NaN   \n",
       "4   -77.0365581  Washington  United States of America  North America   \n",
       "\n",
       "                  state state_code                   collected_at  \n",
       "0               Florida         FL            2020-10-21 00:00:00  \n",
       "1                   NaN        NaN  2020-10-21 00:00:00.373216530  \n",
       "2                Oregon         OR  2020-10-21 00:00:00.746433060  \n",
       "3                   NaN        NaN  2020-10-21 00:00:01.119649591  \n",
       "4  District of Columbia         DC  2020-10-21 00:00:01.492866121  \n",
       "\n",
       "[5 rows x 21 columns]"
      ]
     },
     "execution_count": 17,
     "metadata": {},
     "output_type": "execute_result"
    }
   ],
   "source": [
    "train_langs.value_counts()\n",
    "labeled_data['Lang'] = train_langs ; \n",
    "english_train_data = labeled_data[labeled_data['Lang'] == 'ENGLISH'] ; \n",
    "\n",
    "new_train_langs = english_train_data[\"text\"].apply(detect_lang) ; \n",
    "\n",
    "print(new_train_langs.value_counts())  ; # now all are english texts only . \n",
    "\n",
    "print(len(new_train_langs)) ; \n",
    "\n",
    "english_train_data['text'] = clean_tweet_spacy(english_train_data , 'text') ; \n",
    "\n",
    "if (np.sum(labeled_data['text'].isnull())) > 0 : \n",
    "  labeled_data = labeled_data.dropna(subset=['text']) ; \n",
    "  \n",
    "\n",
    "trump_tweets = pd.read_csv(r\"D:\\DSC_A2\\hashtag_donaldtrump.csv\", engine=\"python\")\n",
    "trump_tweets.head()"
   ]
  },
  {
   "cell_type": "code",
   "execution_count": 18,
   "metadata": {},
   "outputs": [
    {
     "data": {
      "text/plain": [
       "Index(['created_at', 'tweet_id', 'tweet', 'likes', 'retweet_count', 'source',\n",
       "       'user_id', 'user_name', 'user_screen_name', 'user_description',\n",
       "       'user_join_date', 'user_followers_count', 'user_location', 'lat',\n",
       "       'long', 'city', 'country', 'continent', 'state', 'state_code',\n",
       "       'collected_at'],\n",
       "      dtype='object')"
      ]
     },
     "execution_count": 18,
     "metadata": {},
     "output_type": "execute_result"
    }
   ],
   "source": [
    "trump_tweets.columns\n"
   ]
  },
  {
   "cell_type": "code",
   "execution_count": 19,
   "metadata": {},
   "outputs": [
    {
     "name": "stdout",
     "output_type": "stream",
     "text": [
      "                                               tweet           created_at  \\\n",
      "0  #Elecciones2020 | En #Florida: #JoeBiden dice ...  2020-10-15 00:00:01   \n",
      "1  Usa 2020, Trump contro Facebook e Twitter: cop...  2020-10-15 00:00:01   \n",
      "2  #Trump: As a student I used to hear for years,...  2020-10-15 00:00:02   \n",
      "3  2 hours since last tweet from #Trump! Maybe he...  2020-10-15 00:00:02   \n",
      "4  You get a tie! And you get a tie! #Trump ‘s ra...  2020-10-15 00:00:08   \n",
      "\n",
      "  likes  retweet_count               user_id user_followers_count  \\\n",
      "0   0.0            0.0           360666534.0               1860.0   \n",
      "1  26.0            9.0           331617619.0            1067661.0   \n",
      "2   2.0            1.0             8436472.0               1185.0   \n",
      "3   0.0            0.0  8.28355589206057e+17                 32.0   \n",
      "4   4.0            3.0            47413798.0               5393.0   \n",
      "\n",
      "                  user_location         lat          long        city  \\\n",
      "0  Philadelphia, PA / Miami, FL    25.77427     -80.19366         NaN   \n",
      "1                           NaN         NaN           NaN         NaN   \n",
      "2                      Portland  45.5202471  -122.6741949    Portland   \n",
      "3                           NaN         NaN           NaN         NaN   \n",
      "4                 Washington DC  38.8949924   -77.0365581  Washington   \n",
      "\n",
      "                    country      continent                 state state_code  \n",
      "0  United States of America  North America               Florida         FL  \n",
      "1                       NaN            NaN                   NaN        NaN  \n",
      "2  United States of America  North America                Oregon         OR  \n",
      "3                       NaN            NaN                   NaN        NaN  \n",
      "4  United States of America  North America  District of Columbia         DC  \n"
     ]
    }
   ],
   "source": [
    "columns = ['tweet', 'created_at', 'likes', 'retweet_count', 'user_id', 'user_followers_count', 'user_location', 'lat','long', 'city', 'country', 'continent', 'state', 'state_code']\n",
    "\n",
    "trump_tweets = trump_tweets[columns] ; \n",
    "\n",
    "print(trump_tweets.head()) ;  "
   ]
  },
  {
   "cell_type": "code",
   "execution_count": 20,
   "metadata": {},
   "outputs": [
    {
     "name": "stdout",
     "output_type": "stream",
     "text": [
      "tweet: null percent: 0.0014416833919103026 null values: 14/971087 value count: 971073/971087\n",
      "created_at: null percent: 0.0 null values: 0/971087 value count: 971087/971087\n",
      "likes: null percent: 0.004325050175730908 null values: 42/971087 value count: 971045/971087\n",
      "retweet_count: null percent: 0.01585851731101333 null values: 154/971087 value count: 970933/971087\n",
      "user_id: null percent: 0.016270426851559126 null values: 158/971087 value count: 970929/971087\n",
      "user_followers_count: null percent: 0.017506155473196533 null values: 170/971087 value count: 970917/971087\n",
      "user_location: null percent: 30.40479380323287 null values: 295257/971087 value count: 675830/971087\n",
      "lat: null percent: 54.10277348991388 null values: 525385/971087 value count: 445702/971087\n",
      "long: null percent: 54.102464557758466 null values: 525382/971087 value count: 445705/971087\n",
      "city: null percent: 76.60559764470125 null values: 743907/971087 value count: 227180/971087\n",
      "country: null percent: 54.40861632376913 null values: 528355/971087 value count: 442732/971087\n",
      "continent: null percent: 54.406865708221815 null values: 528338/971087 value count: 442749/971087\n",
      "state: null percent: 66.98400864186216 null values: 650473/971087 value count: 320614/971087\n",
      "state_code: null percent: 69.06415182161845 null values: 670673/971087 value count: 300414/971087\n"
     ]
    }
   ],
   "source": [
    "col_null_values = check_columns_null_values(trump_tweets) ; \n"
   ]
  },
  {
   "cell_type": "code",
   "execution_count": 21,
   "metadata": {},
   "outputs": [
    {
     "data": {
      "text/plain": [
       "Text(0.5, 1.0, 'Null Values in Donald Trump Dataset')"
      ]
     },
     "execution_count": 21,
     "metadata": {},
     "output_type": "execute_result"
    },
    {
     "data": {
      "image/png": "[encoded data removed]",
      "text/plain": [
       "<Figure size 2400x600 with 1 Axes>"
      ]
     },
     "metadata": {},
     "output_type": "display_data"
    }
   ],
   "source": [
    "plt.figure(figsize=(24 , 6)) ; \n",
    "\n",
    "snb.barplot(x=col_null_values['column'] , y=col_null_values['nullvalues']) ; \n",
    "\n",
    "plt.title(\"Null Values in Donald Trump Dataset\")"
   ]
  },
  {
   "cell_type": "code",
   "execution_count": 22,
   "metadata": {},
   "outputs": [
    {
     "name": "stderr",
     "output_type": "stream",
     "text": [
      "C:\\Users\\Avi Sharma\\AppData\\Local\\Temp\\ipykernel_29608\\2295660147.py:6: FutureWarning: A value is trying to be set on a copy of a DataFrame or Series through chained assignment using an inplace method.\n",
      "The behavior will change in pandas 3.0. This inplace method will never work because the intermediate object on which we are setting values always behaves as a copy.\n",
      "\n",
      "For example, when doing 'df[col].method(value, inplace=True)', try using 'df.method({col: value}, inplace=True)' or df[col] = df[col].method(value) instead, to perform the operation inplace on the original object.\n",
      "\n",
      "\n",
      "  dataframe['likes'].fillna(dataframe['likes'].mean() , inplace=True) ;\n",
      "C:\\Users\\Avi Sharma\\AppData\\Local\\Temp\\ipykernel_29608\\2295660147.py:8: FutureWarning: A value is trying to be set on a copy of a DataFrame or Series through chained assignment using an inplace method.\n",
      "The behavior will change in pandas 3.0. This inplace method will never work because the intermediate object on which we are setting values always behaves as a copy.\n",
      "\n",
      "For example, when doing 'df[col].method(value, inplace=True)', try using 'df.method({col: value}, inplace=True)' or df[col] = df[col].method(value) instead, to perform the operation inplace on the original object.\n",
      "\n",
      "\n",
      "  dataframe[\"retweet_count\"].fillna(dataframe[\"retweet_count\"].mean(), inplace=True)\n"
     ]
    }
   ],
   "source": [
    "def clean_data_frame(dataframe): \n",
    "  dataframe['likes'] = pd.to_numeric(dataframe['likes'] , errors='coerce') ; \n",
    "  \n",
    "  dataframe['user_followers_count'] = pd.to_numeric(dataframe['user_followers_count'] , errors='coerce') ; \n",
    "  \n",
    "  dataframe['likes'].fillna(dataframe['likes'].mean() , inplace=True) ; \n",
    "\n",
    "  dataframe[\"retweet_count\"].fillna(dataframe[\"retweet_count\"].mean(), inplace=True)\n",
    "\n",
    "  dataframe['created_at'] = pd.to_datetime(dataframe['created_at'], errors=\"coerce\") \n",
    "  \n",
    "  dataframe[\"created_at\"] = dataframe[\"created_at\"].dt.strftime('%m-%d')\n",
    "  \n",
    "clean_data_frame(trump_tweets)\n"
   ]
  },
  {
   "cell_type": "code",
   "execution_count": 23,
   "metadata": {},
   "outputs": [
    {
     "data": {
      "text/plain": [
       "np.int64(14)"
      ]
     },
     "execution_count": 23,
     "metadata": {},
     "output_type": "execute_result"
    }
   ],
   "source": [
    "np.sum(trump_tweets[\"tweet\"].isnull())\n"
   ]
  },
  {
   "cell_type": "code",
   "execution_count": 24,
   "metadata": {},
   "outputs": [
    {
     "name": "stdout",
     "output_type": "stream",
     "text": [
      "tweet: null percent: 0.0 null values: 0/971073 value count: 971073/971073\n",
      "created_at: null percent: 0.015858745943919766 null values: 154/971073 value count: 970919/971073\n",
      "likes: null percent: 0.0 null values: 0/971073 value count: 971073/971073\n",
      "retweet_count: null percent: 0.0 null values: 0/971073 value count: 971073/971073\n",
      "user_id: null percent: 0.014828957246262639 null values: 144/971073 value count: 970929/971073\n",
      "user_followers_count: null percent: 0.031202597539010973 null values: 303/971073 value count: 970770/971073\n",
      "user_location: null percent: 30.40379044623834 null values: 295243/971073 value count: 675830/971073\n",
      "lat: null percent: 54.10211178768228 null values: 525371/971073 value count: 445702/971073\n",
      "long: null percent: 54.10180285107299 null values: 525368/971073 value count: 445705/971073\n",
      "city: null percent: 76.60526036662537 null values: 743893/971073 value count: 227180/971073\n",
      "country: null percent: 54.40795903088645 null values: 528341/971073 value count: 442732/971073\n",
      "continent: null percent: 54.40620839010043 null values: 528324/971073 value count: 442749/971073\n",
      "state: null percent: 66.98353264893576 null values: 650459/971073 value count: 320614/971073\n",
      "state_code: null percent: 69.06370581820316 null values: 670659/971073 value count: 300414/971073\n"
     ]
    }
   ],
   "source": [
    "trump_tweets = trump_tweets.dropna(subset=['tweet'])\n",
    "check_columns_null_values(trump_tweets) ; \n"
   ]
  },
  {
   "cell_type": "code",
   "execution_count": 25,
   "metadata": {},
   "outputs": [
    {
     "name": "stdout",
     "output_type": "stream",
     "text": [
      "tweet\n",
      "ENGLISH     673207\n",
      "Unknown     127332\n",
      "SPANISH      41265\n",
      "GERMAN       37115\n",
      "FRENCH       31466\n",
      "             ...  \n",
      "YORUBA           1\n",
      "IGBO             1\n",
      "MALAGASY         1\n",
      "FIJIAN           1\n",
      "SAMOAN           1\n",
      "Name: count, Length: 101, dtype: int64\n"
     ]
    }
   ],
   "source": [
    "trump_tweets['tweet'] = trump_tweets['tweet'].apply(clean_tweet_text_regex) ;  \n",
    "trump_langs = trump_tweets[\"tweet\"].apply(detect_lang)\n",
    "print(trump_langs.value_counts())  ; "
   ]
  },
  {
   "cell_type": "code",
   "execution_count": 26,
   "metadata": {},
   "outputs": [
    {
     "name": "stderr",
     "output_type": "stream",
     "text": [
      "c:\\Users\\Avi Sharma\\AppData\\Local\\Programs\\Python\\Python310\\lib\\site-packages\\numpy\\_core\\fromnumeric.py:57: FutureWarning: 'DataFrame.swapaxes' is deprecated and will be removed in a future version. Please use 'DataFrame.transpose' instead.\n",
      "  return bound(*args, **kwds)\n",
      "c:\\Users\\Avi Sharma\\AppData\\Local\\Programs\\Python\\Python310\\lib\\site-packages\\spacy\\pipeline\\lemmatizer.py:211: UserWarning: [W108] The rule-based lemmatizer did not find POS annotation for one or more tokens. Check that your pipeline includes components that assign token.pos, typically 'tagger'+'attribute_ruler' or 'morphologizer'.\n",
      "  warnings.warn(Warnings.W108)\n"
     ]
    },
    {
     "name": "stdout",
     "output_type": "stream",
     "text": [
      "Tweets cleaning started\n",
      "Tweets cleanned\n"
     ]
    },
    {
     "name": "stderr",
     "output_type": "stream",
     "text": [
      "C:\\Users\\Avi Sharma\\AppData\\Local\\Temp\\ipykernel_29608\\2836438219.py:3: SettingWithCopyWarning: \n",
      "A value is trying to be set on a copy of a slice from a DataFrame.\n",
      "Try using .loc[row_indexer,col_indexer] = value instead\n",
      "\n",
      "See the caveats in the documentation: https://pandas.pydata.org/pandas-docs/stable/user_guide/indexing.html#returning-a-view-versus-a-copy\n",
      "  eng_tweet_trump[\"tweet\"] = clean_tweet_spacy(eng_tweet_trump, \"tweet\")\n"
     ]
    }
   ],
   "source": [
    "trump_tweets[\"Lang\"] = trump_langs ; \n",
    "eng_tweet_trump = trump_tweets[trump_tweets[\"Lang\"] == \"ENGLISH\"]\n",
    "eng_tweet_trump[\"tweet\"] = clean_tweet_spacy(eng_tweet_trump, \"tweet\")"
   ]
  },
  {
   "cell_type": "code",
   "execution_count": 28,
   "metadata": {},
   "outputs": [
    {
     "name": "stdout",
     "output_type": "stream",
     "text": [
      "tweet: null percent: 0.010037666988815723 null values: 78/777073 value count: 776995/777073\n",
      "created_at: null percent: 0.0 null values: 0/777073 value count: 777073/777073\n",
      "likes: null percent: 0.020461398092585896 null values: 159/777073 value count: 776914/777073\n",
      "retweet_count: null percent: 0.022906470820630753 null values: 178/777073 value count: 776895/777073\n",
      "user_id: null percent: 0.023678599050539654 null values: 184/777073 value count: 776889/777073\n",
      "user_followers_count: null percent: 0.024193351203812254 null values: 188/777073 value count: 776885/777073\n",
      "user_location: null percent: 30.11428784683035 null values: 234010/777073 value count: 543063/777073\n",
      "lat: null percent: 54.279198994174294 null values: 421789/777073 value count: 355284/777073\n",
      "long: null percent: 54.279198994174294 null values: 421789/777073 value count: 355284/777073\n",
      "city: null percent: 75.95219496752557 null values: 590204/777073 value count: 186869/777073\n",
      "country: null percent: 54.47403268418797 null values: 423303/777073 value count: 353770/777073\n",
      "continent: null percent: 54.47171629949824 null values: 423285/777073 value count: 353788/777073\n",
      "state: null percent: 66.51653062196216 null values: 516882/777073 value count: 260191/777073\n",
      "state_code: null percent: 68.52251976326549 null values: 532470/777073 value count: 244603/777073\n"
     ]
    }
   ],
   "source": [
    "joebiden_tweets = pd.read_csv(r\"D:\\DSC_A2\\hashtag_joebiden.csv\", engine=\"python\")\n",
    "\n",
    "\n",
    "joebiden_tweets.head()\n",
    "joebiden_tweets = joebiden_tweets[columns] ; \n",
    "joe_col_null_values = check_columns_null_values(joebiden_tweets ) ; "
   ]
  },
  {
   "cell_type": "code",
   "execution_count": 29,
   "metadata": {},
   "outputs": [
    {
     "data": {
      "text/plain": [
       "Text(0.5, 1.0, 'Null Values in Joe Biden Dataset')"
      ]
     },
     "execution_count": 29,
     "metadata": {},
     "output_type": "execute_result"
    },
    {
     "data": {
      "image/png": "[encoded data removed]",
      "text/plain": [
       "<Figure size 2400x600 with 1 Axes>"
      ]
     },
     "metadata": {},
     "output_type": "display_data"
    }
   ],
   "source": [
    "plt.figure(figsize=(24,6))\n",
    "\n",
    "snb.barplot(x=joe_col_null_values[\"column\"], y=joe_col_null_values[\"nullvalues\"])\n",
    "plt.title(\"Null Values in Joe Biden Dataset\")"
   ]
  },
  {
   "cell_type": "code",
   "execution_count": 30,
   "metadata": {},
   "outputs": [
    {
     "name": "stderr",
     "output_type": "stream",
     "text": [
      "C:\\Users\\Avi Sharma\\AppData\\Local\\Temp\\ipykernel_29608\\2295660147.py:6: FutureWarning: A value is trying to be set on a copy of a DataFrame or Series through chained assignment using an inplace method.\n",
      "The behavior will change in pandas 3.0. This inplace method will never work because the intermediate object on which we are setting values always behaves as a copy.\n",
      "\n",
      "For example, when doing 'df[col].method(value, inplace=True)', try using 'df.method({col: value}, inplace=True)' or df[col] = df[col].method(value) instead, to perform the operation inplace on the original object.\n",
      "\n",
      "\n",
      "  dataframe['likes'].fillna(dataframe['likes'].mean() , inplace=True) ;\n",
      "C:\\Users\\Avi Sharma\\AppData\\Local\\Temp\\ipykernel_29608\\2295660147.py:8: FutureWarning: A value is trying to be set on a copy of a DataFrame or Series through chained assignment using an inplace method.\n",
      "The behavior will change in pandas 3.0. This inplace method will never work because the intermediate object on which we are setting values always behaves as a copy.\n",
      "\n",
      "For example, when doing 'df[col].method(value, inplace=True)', try using 'df.method({col: value}, inplace=True)' or df[col] = df[col].method(value) instead, to perform the operation inplace on the original object.\n",
      "\n",
      "\n",
      "  dataframe[\"retweet_count\"].fillna(dataframe[\"retweet_count\"].mean(), inplace=True)\n"
     ]
    }
   ],
   "source": [
    "clean_data_frame(joebiden_tweets)\n"
   ]
  },
  {
   "cell_type": "code",
   "execution_count": 31,
   "metadata": {},
   "outputs": [
    {
     "name": "stderr",
     "output_type": "stream",
     "text": [
      "c:\\Users\\Avi Sharma\\AppData\\Local\\Programs\\Python\\Python310\\lib\\site-packages\\numpy\\_core\\fromnumeric.py:57: FutureWarning: 'DataFrame.swapaxes' is deprecated and will be removed in a future version. Please use 'DataFrame.transpose' instead.\n",
      "  return bound(*args, **kwds)\n",
      "c:\\Users\\Avi Sharma\\AppData\\Local\\Programs\\Python\\Python310\\lib\\site-packages\\spacy\\pipeline\\lemmatizer.py:211: UserWarning: [W108] The rule-based lemmatizer did not find POS annotation for one or more tokens. Check that your pipeline includes components that assign token.pos, typically 'tagger'+'attribute_ruler' or 'morphologizer'.\n",
      "  warnings.warn(Warnings.W108)\n"
     ]
    },
    {
     "name": "stdout",
     "output_type": "stream",
     "text": [
      "Tweets cleaning started\n",
      "Tweets cleanned\n"
     ]
    },
    {
     "name": "stderr",
     "output_type": "stream",
     "text": [
      "C:\\Users\\Avi Sharma\\AppData\\Local\\Temp\\ipykernel_29608\\4049788329.py:9: SettingWithCopyWarning: \n",
      "A value is trying to be set on a copy of a slice from a DataFrame.\n",
      "Try using .loc[row_indexer,col_indexer] = value instead\n",
      "\n",
      "See the caveats in the documentation: https://pandas.pydata.org/pandas-docs/stable/user_guide/indexing.html#returning-a-view-versus-a-copy\n",
      "  eng_joebiden_tweets[\"tweet\"] = clean_tweet_spacy(eng_joebiden_tweets, \"tweet\")\n"
     ]
    }
   ],
   "source": [
    "np.sum(joebiden_tweets[\"tweet\"].isnull())\n",
    "joebiden_tweets = joebiden_tweets.dropna(subset=['tweet'])\n",
    "joebiden_tweets[\"tweet\"] = joebiden_tweets[\"tweet\"].apply(clean_tweet_text_regex)\n",
    "joe_langs = joebiden_tweets[\"tweet\"].apply(detect_lang)\n",
    "joe_langs.unique()\n",
    "joe_langs.value_counts()\n",
    "joebiden_tweets[\"Lang\"] = joe_langs\n",
    "eng_joebiden_tweets = joebiden_tweets[joebiden_tweets[\"Lang\"] == \"ENGLISH\"]\n",
    "eng_joebiden_tweets[\"tweet\"] = clean_tweet_spacy(eng_joebiden_tweets, \"tweet\")\n"
   ]
  },
  {
   "cell_type": "code",
   "execution_count": 34,
   "metadata": {},
   "outputs": [
    {
     "name": "stdout",
     "output_type": "stream",
     "text": [
      "ACCURACY:\n",
      "77.7448922082074\n",
      "\n",
      "CONFUSSION MATRIX\n",
      "[[116197  36461]\n",
      " [ 31063 119688]]\n",
      "\n",
      "CLASSIFICATION REPORT\n",
      "              precision    recall  f1-score   support\n",
      "\n",
      "           0       0.79      0.76      0.77    152658\n",
      "           4       0.77      0.79      0.78    150751\n",
      "\n",
      "    accuracy                           0.78    303409\n",
      "   macro avg       0.78      0.78      0.78    303409\n",
      "weighted avg       0.78      0.78      0.78    303409\n",
      "\n"
     ]
    }
   ],
   "source": [
    "def train_model(train_data, targets):\n",
    "    X_train, X_test, Y_train, Y_test = train_test_split(train_data, targets, test_size=0.2)\n",
    "\n",
    "    model = Pipeline([('vect', HashingVectorizer()),\n",
    "                      ('logreg', LogisticRegression(max_iter=1000, solver=\"saga\")),\n",
    "              ])\n",
    "    model.fit(X_train, Y_train)\n",
    "\n",
    "    return model, X_test, Y_test\n",
    "\n",
    "def check_model_metrics(model, test_data, test_targets):\n",
    "    y_pred = model.predict(test_data)\n",
    "\n",
    "    print(\"ACCURACY:\")\n",
    "    print(metrics.accuracy_score(test_targets, y_pred)*100)\n",
    "\n",
    "    print(\"\\nCONFUSSION MATRIX\")\n",
    "    print(confusion_matrix(test_targets, y_pred))\n",
    "\n",
    "    print(\"\\nCLASSIFICATION REPORT\")\n",
    "    print(classification_report(test_targets, y_pred))\n",
    "\n",
    "train_data = english_train_data['text']\n",
    "targets = english_train_data[\"label\"]\n",
    "model, x_test, y_test = train_model(train_data, targets)\n",
    "check_model_metrics(model, x_test, y_test) # basic modelling to get the polarity for now , we will do better mobing forward . "
   ]
  },
  {
   "cell_type": "code",
   "execution_count": 35,
   "metadata": {},
   "outputs": [],
   "source": [
    "def get_sentiments(model, data, level_of_signifence):\n",
    "    sentiments=[]\n",
    "    polarity = []\n",
    "    prediction_prob = model.predict_proba(data)\n",
    "\n",
    "    for prob in prediction_prob:\n",
    "        dif = prob[1] - prob[0]\n",
    "        polarity.append(prob[1])\n",
    "        if dif >= -level_of_signifence and dif <= level_of_signifence:\n",
    "            sentiments.append(\"Neutral\")\n",
    "        elif dif > level_of_signifence:\n",
    "            sentiments.append(\"Positive\")\n",
    "        else:\n",
    "            sentiments.append(\"Negative\")\n",
    "            \n",
    "    return sentiments, polarity\n",
    "trump_tweets_data = eng_tweet_trump[\"tweet\"]\n",
    "trump_sentiments, tump_polarity = get_sentiments(model, trump_tweets_data, 0.1)\n",
    "joe_tweets_data = eng_joebiden_tweets[\"tweet\"]\n",
    "joe_sentiments, joe_polarity = get_sentiments(model, joe_tweets_data, 0.1)\n"
   ]
  },
  {
   "cell_type": "code",
   "execution_count": 36,
   "metadata": {},
   "outputs": [
    {
     "name": "stderr",
     "output_type": "stream",
     "text": [
      "C:\\Users\\Avi Sharma\\AppData\\Local\\Temp\\ipykernel_29608\\2124434170.py:3: SettingWithCopyWarning: \n",
      "A value is trying to be set on a copy of a slice from a DataFrame.\n",
      "Try using .loc[row_indexer,col_indexer] = value instead\n",
      "\n",
      "See the caveats in the documentation: https://pandas.pydata.org/pandas-docs/stable/user_guide/indexing.html#returning-a-view-versus-a-copy\n",
      "  eng_tweet_trump[\"sentiments\"] = trump_sentiments\n",
      "C:\\Users\\Avi Sharma\\AppData\\Local\\Temp\\ipykernel_29608\\2124434170.py:4: SettingWithCopyWarning: \n",
      "A value is trying to be set on a copy of a slice from a DataFrame.\n",
      "Try using .loc[row_indexer,col_indexer] = value instead\n",
      "\n",
      "See the caveats in the documentation: https://pandas.pydata.org/pandas-docs/stable/user_guide/indexing.html#returning-a-view-versus-a-copy\n",
      "  eng_tweet_trump[\"polarity\"] = tump_polarity\n"
     ]
    }
   ],
   "source": [
    "pd.Series(trump_sentiments).value_counts(normalize=True)\n",
    "pd.Series(joe_sentiments).value_counts(normalize=True)\n",
    "eng_tweet_trump[\"sentiments\"] = trump_sentiments\n",
    "eng_tweet_trump[\"polarity\"] = tump_polarity"
   ]
  },
  {
   "cell_type": "code",
   "execution_count": 37,
   "metadata": {},
   "outputs": [
    {
     "name": "stderr",
     "output_type": "stream",
     "text": [
      "C:\\Users\\Avi Sharma\\AppData\\Local\\Temp\\ipykernel_29608\\3330981524.py:1: SettingWithCopyWarning: \n",
      "A value is trying to be set on a copy of a slice from a DataFrame.\n",
      "Try using .loc[row_indexer,col_indexer] = value instead\n",
      "\n",
      "See the caveats in the documentation: https://pandas.pydata.org/pandas-docs/stable/user_guide/indexing.html#returning-a-view-versus-a-copy\n",
      "  eng_joebiden_tweets[\"sentiments\"] = joe_sentiments\n",
      "C:\\Users\\Avi Sharma\\AppData\\Local\\Temp\\ipykernel_29608\\3330981524.py:2: SettingWithCopyWarning: \n",
      "A value is trying to be set on a copy of a slice from a DataFrame.\n",
      "Try using .loc[row_indexer,col_indexer] = value instead\n",
      "\n",
      "See the caveats in the documentation: https://pandas.pydata.org/pandas-docs/stable/user_guide/indexing.html#returning-a-view-versus-a-copy\n",
      "  eng_joebiden_tweets[\"polarity\"] = joe_polarity\n"
     ]
    }
   ],
   "source": [
    "eng_joebiden_tweets[\"sentiments\"] = joe_sentiments\n",
    "eng_joebiden_tweets[\"polarity\"] = joe_polarity"
   ]
  },
  {
   "cell_type": "code",
   "execution_count": 38,
   "metadata": {},
   "outputs": [],
   "source": [
    "all_polarity = pd.concat([eng_tweet_trump[\"polarity\"], eng_joebiden_tweets[\"polarity\"]])"
   ]
  },
  {
   "cell_type": "code",
   "execution_count": 39,
   "metadata": {},
   "outputs": [],
   "source": [
    "sample = eng_joebiden_tweets[\"polarity\"].sample(n=50)\n"
   ]
  },
  {
   "cell_type": "code",
   "execution_count": 40,
   "metadata": {},
   "outputs": [
    {
     "name": "stdout",
     "output_type": "stream",
     "text": [
      "sample mean:  0.6062237308393723 , population mean:  0.5751577131685005 , sigma:  0.2023053707962758 , n:  50\n"
     ]
    }
   ],
   "source": [
    "x_ = sample.mean()\n",
    "mio = all_polarity.mean()\n",
    "sigma =all_polarity.std()\n",
    "n=50\n",
    "\n",
    "print(\"sample mean: \",x_, \", population mean: \", mio,\", sigma: \", sigma, \", n: \", n)"
   ]
  },
  {
   "cell_type": "code",
   "execution_count": 41,
   "metadata": {},
   "outputs": [
    {
     "name": "stdout",
     "output_type": "stream",
     "text": [
      "Z calculated value is:  1.0858333455544105\n"
     ]
    }
   ],
   "source": [
    "z_calc = (x_ - mio)/(sigma/math.sqrt(n))\n",
    "print(\"Z calculated value is: \", z_calc)"
   ]
  },
  {
   "cell_type": "markdown",
   "metadata": {},
   "source": [
    "Z-test for two proportions : Proportion Test on Positive/Negative Sentiments (Sentiment Ratio)\n",
    "\n",
    "Goal: Compare the proportion of positive sentiments between Biden and Trump tweets to see if there is a significant difference in the positivity rate.\n",
    "\n",
    "H0 : There is no significant difference in the proportion of positive sentiments in Trump and Biden tweets\n",
    "H1 : There is significant difference in the proportion of positive sentiments in Trump and Biden tweets"
   ]
  },
  {
   "cell_type": "markdown",
   "metadata": {},
   "source": [
    "![alt text](image-1.png)"
   ]
  },
  {
   "cell_type": "code",
   "execution_count": 63,
   "metadata": {},
   "outputs": [
    {
     "name": "stdout",
     "output_type": "stream",
     "text": [
      "Z-statistic: 104.93735135720476\n",
      "Reject H0 : There is a significant difference in positive sentiment proportions.\n"
     ]
    }
   ],
   "source": [
    "alpha = 0.05\n",
    "z_tab = 1.96  # 95% confidence level \n",
    "biden_pos = eng_joebiden_tweets[eng_joebiden_tweets[\"sentiments\"] == \"Positive\"].shape[0]\n",
    "trump_pos = eng_tweet_trump[eng_tweet_trump[\"sentiments\"] == \"Positive\"].shape[0]\n",
    "tot_biden = eng_joebiden_tweets.shape[0]\n",
    "tot_trump = eng_tweet_trump.shape[0]\n",
    "\n",
    "p1 = biden_pos / tot_biden  \n",
    "p2 = trump_pos / tot_trump  \n",
    "\n",
    "P = (p1* tot_biden + p2 * tot_trump) / (tot_biden + tot_trump)\n",
    "\n",
    "#formula from class slides\n",
    "z_cal = (p1 - p2) / math.sqrt(P * (1 - P) * (1 / tot_biden + 1 / tot_trump))\n",
    "\n",
    "print(\"Z-statistic:\", z_cal)\n",
    "\n",
    "if abs(z_cal) > z_tab:\n",
    "    print(\"Reject H0 : There is a significant difference in positive sentiment proportions.\")\n",
    "else:\n",
    "    print(\"Fail to reject H0 : No significant difference in positive sentiment proportions.\")\n"
   ]
  }
 ],
 "metadata": {
  "kernelspec": {
   "display_name": "Python 3",
   "language": "python",
   "name": "python3"
  },
  "language_info": {
   "codemirror_mode": {
    "name": "ipython",
    "version": 3
   },
   "file_extension": ".py",
   "mimetype": "text/x-python",
   "name": "python",
   "nbconvert_exporter": "python",
   "pygments_lexer": "ipython3",
   "version": "3.10.3"
  }
 },
 "nbformat": 4,
 "nbformat_minor": 2
}
